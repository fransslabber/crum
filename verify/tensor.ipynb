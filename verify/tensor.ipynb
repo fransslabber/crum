{
 "cells": [
  {
   "cell_type": "code",
   "execution_count": 6,
   "metadata": {},
   "outputs": [
    {
     "name": "stdout",
     "output_type": "stream",
     "text": [
      "Requirement already satisfied: numpy in /home/frans/projects/crum/.venv/lib/python3.12/site-packages (2.2.2)\n",
      "tensor C: [[[ 70.  76.]\n",
      "  [ 82.  88.]\n",
      "  [ 94. 100.]\n",
      "  [106. 112.]]\n",
      "\n",
      " [[151. 166.]\n",
      "  [181. 196.]\n",
      "  [211. 226.]\n",
      "  [241. 256.]]]\n",
      "[[326. 497.]\n",
      " [386. 593.]\n",
      " [446. 689.]\n",
      " [506. 785.]]\n"
     ]
    }
   ],
   "source": [
    "!pip install numpy\n",
    "\n",
    "import numpy as np\n",
    "\n",
    "# Define Tensor A with shape (3, 4, 5)\n",
    "A = np.arange(  3, 4, 5)\n",
    "\n",
    "# Define Tensor B with shape (5, 4, 6)\n",
    "B = np.random.rand(5, 4, 6)\n",
    "\n",
    "a = np.array([\n",
    "        [1.0, 2.0, 3.0], \n",
    "        [4.0, 5.0, 6.0]\n",
    "    ]) #(2,3)\n",
    "\n",
    "b = np.array([\n",
    "        [[1.0, 2.0], [3.0, 4.0], [5.0, 6.0], [7.0, 8.0]],\n",
    "        [[9.0, 10.0], [11.0, 12.0], [13.0, 14.0], [15.0, 16.0]],\n",
    "        [[17.0, 18.0], [19.0, 20.0], [21.0, 22.0], [23.0, 24.0]]\n",
    "    ]) #(3,4,2)\n",
    "\n",
    "# Perform tensor contraction over specified indices\n",
    "# Contract A over indices 1 and 2 with B over indices 1 and 0 respectively\n",
    "# C = np.einsum('ijk,ljm->ilm', A, B)\n",
    "C = np.einsum('ik,klm->ilm', a, b)\n",
    "\n",
    "# Display the shape of the resulting tensor\n",
    "print(\"tensor C:\", C)\n",
    "\n",
    "t4 = np.array([ #  [3, 4, 2]\n",
    "  [\n",
    "     [  1.0000,  2.0000 ],\n",
    "     [  3.0000,  4.0000 ],\n",
    "     [  5.0000,  6.0000 ],\n",
    "     [  7.0000,  8.0000 ]\n",
    "  ],\n",
    "  [\n",
    "     [  9.0000, 10.0000 ],\n",
    "     [ 11.0000, 12.0000 ],\n",
    "     [ 13.0000, 14.0000 ],\n",
    "     [ 15.0000, 16.0000 ]\n",
    "  ],\n",
    "  [\n",
    "     [ 17.0000, 18.0000 ],\n",
    "     [ 19.0000, 20.0000 ],\n",
    "     [ 21.0000, 22.0000 ],\n",
    "     [ 23.0000, 24.0000 ]\n",
    "  ]\n",
    "])\n",
    "\n",
    "t3 = np.array([ #[2, 2, 3]\n",
    "  [\n",
    "     [  1.0000,  2.0000,  3.0000 ],\n",
    "     [  4.0000,  5.0000,  6.0000 ]\n",
    "  ],\n",
    "  [\n",
    "     [  7.0000,  8.0000,  9.0000 ],\n",
    "     [ 10.0000, 11.0000, 12.0000 ]\n",
    "  ]\n",
    "])\n",
    "\n",
    "print(np.einsum('ijk,kli->jl', t4, t3))\n"
   ]
  }
 ],
 "metadata": {
  "kernelspec": {
   "display_name": ".venv",
   "language": "python",
   "name": "python3"
  },
  "language_info": {
   "codemirror_mode": {
    "name": "ipython",
    "version": 3
   },
   "file_extension": ".py",
   "mimetype": "text/x-python",
   "name": "python",
   "nbconvert_exporter": "python",
   "pygments_lexer": "ipython3",
   "version": "3.12.3"
  }
 },
 "nbformat": 4,
 "nbformat_minor": 2
}
