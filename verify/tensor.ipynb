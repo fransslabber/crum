{
 "cells": [
  {
   "cell_type": "code",
   "execution_count": 29,
   "metadata": {},
   "outputs": [
    {
     "name": "stdout",
     "output_type": "stream",
     "text": [
      "Requirement already satisfied: numpy in /home/frans/projects/crum/.venv/lib/python3.12/site-packages (2.2.2)\n",
      "einsum= [[[[  9.  19.  29.  39.]\n",
      "   [ 49.  59.  69.  79.]\n",
      "   [ 89.  99. 109. 119.]]\n",
      "\n",
      "  [[ 12.  26.  40.  54.]\n",
      "   [ 68.  82.  96. 110.]\n",
      "   [124. 138. 152. 166.]]\n",
      "\n",
      "  [[ 15.  33.  51.  69.]\n",
      "   [ 87. 105. 123. 141.]\n",
      "   [159. 177. 195. 213.]]]\n",
      "\n",
      "\n",
      " [[[ 27.  61.  95. 129.]\n",
      "   [163. 197. 231. 265.]\n",
      "   [299. 333. 367. 401.]]\n",
      "\n",
      "  [[ 30.  68. 106. 144.]\n",
      "   [182. 220. 258. 296.]\n",
      "   [334. 372. 410. 448.]]\n",
      "\n",
      "  [[ 33.  75. 117. 159.]\n",
      "   [201. 243. 285. 327.]\n",
      "   [369. 411. 453. 495.]]]]\n"
     ]
    }
   ],
   "source": [
    "!pip install numpy\n",
    "\n",
    "import numpy as np\n",
    "\n",
    "# Define Tensor A with shape (3, 4, 5)\n",
    "A = np.arange(  3, 4, 5)\n",
    "\n",
    "# Define Tensor B with shape (5, 4, 6)\n",
    "B = np.random.rand(5, 4, 6)\n",
    "\n",
    "# a = np.array([\n",
    "#       [1.0, 2.0, 3.0, 7.0], \n",
    "#       [4.0, 5.0, 6.0, 8.0] \n",
    "#    ]) #(2,4)\n",
    "\n",
    "a = np.array([\n",
    "     [[1.0, 2.0, 3.0], [4.0, 5.0, 6.0]], \n",
    "      [[7.0, 8.0, 9.0], [10.0, 11.0, 12.0]] \n",
    "    ]) # (2,2,3)\n",
    "\n",
    "b =  np.array([\n",
    "                  [[1.0, 2.0], [3.0, 4.0], [5.0, 6.0], [7.0, 8.0]],\n",
    "                  [[9.0, 10.0], [11.0, 12.0], [13.0, 14.0], [15.0, 16.0]],\n",
    "                  [[17.0, 18.0], [19.0, 20.0], [21.0, 22.0], [23.0, 24.0]]\n",
    "              ]) #(3,4,2)\n",
    "print(\"einsum=\", np.einsum('ijk,lmj->iklm', a, b))\n",
    "\n",
    "# Calculate the total number of elements required\n",
    "# total_elements = np.prod((3, 4, 5,6, 2))\n",
    "\n",
    "# # Create a 1D array with the required number of elements\n",
    "# arr = np.arange(start=1,stop=total_elements+1)\n",
    "\n",
    "# # Reshape the array to the desired shape\n",
    "# b = arr.reshape((3, 4, 5,6, 2))\n",
    "#print(\"einsum=\", np.einsum('ij,klmni->jklmn', a, b))\n",
    "\n",
    "\n",
    "\n",
    "# Perform tensor contraction over specified indices\n",
    "# Contract A over indices 1 and 2 with B over indices 1 and 0 respectively\n",
    "# C = np.einsum('ijk,ljm->ilm', A, B)\n",
    "\n",
    "\n",
    "\n"
   ]
  }
 ],
 "metadata": {
  "kernelspec": {
   "display_name": ".venv",
   "language": "python",
   "name": "python3"
  },
  "language_info": {
   "codemirror_mode": {
    "name": "ipython",
    "version": 3
   },
   "file_extension": ".py",
   "mimetype": "text/x-python",
   "name": "python",
   "nbconvert_exporter": "python",
   "pygments_lexer": "ipython3",
   "version": "3.12.3"
  }
 },
 "nbformat": 4,
 "nbformat_minor": 2
}
